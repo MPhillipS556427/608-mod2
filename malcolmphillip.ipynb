{
 "cells": [
  {
   "cell_type": "code",
   "execution_count": 4,
   "id": "db101da8-a90e-4bee-857a-0c514fdd0dc8",
   "metadata": {},
   "outputs": [
    {
     "data": {
      "text/plain": [
       "6"
      ]
     },
     "execution_count": 4,
     "metadata": {},
     "output_type": "execute_result"
    }
   ],
   "source": [
    "len([47, 95, 88, 73, 88, 84])"
   ]
  },
  {
   "cell_type": "code",
   "execution_count": 6,
   "id": "013bf0d5-9300-476b-a06d-be97ba73f3be",
   "metadata": {},
   "outputs": [
    {
     "data": {
      "text/plain": [
       "475"
      ]
     },
     "execution_count": 6,
     "metadata": {},
     "output_type": "execute_result"
    }
   ],
   "source": [
    "sum ([47, 95, 88, 73, 88, 84])"
   ]
  },
  {
   "cell_type": "code",
   "execution_count": 8,
   "id": "176a8177-bbf5-4ce2-9abf-3b48e7c10bf7",
   "metadata": {},
   "outputs": [
    {
     "data": {
      "text/plain": [
       "79.16666666666667"
      ]
     },
     "execution_count": 8,
     "metadata": {},
     "output_type": "execute_result"
    }
   ],
   "source": [
    "( sum([47, 95, 88, 73, 88, 84]) / len([47, 95, 88, 73, 88, 84]) )"
   ]
  },
  {
   "cell_type": "code",
   "execution_count": 9,
   "id": "62de560e-945c-42a3-993b-0194e8fc436e",
   "metadata": {},
   "outputs": [],
   "source": [
    "import statistics"
   ]
  },
  {
   "cell_type": "code",
   "execution_count": 10,
   "id": "e2d11128-2ef3-4b7b-97df-f24d02a1ff6c",
   "metadata": {},
   "outputs": [
    {
     "data": {
      "text/plain": [
       "79.16666666666667"
      ]
     },
     "execution_count": 10,
     "metadata": {},
     "output_type": "execute_result"
    }
   ],
   "source": [
    "values = [47, 95, 88, 73, 88, 84]\n",
    "statistics.mean(values)"
   ]
  },
  {
   "cell_type": "code",
   "execution_count": 11,
   "id": "1076f4c5-f2cd-4235-aa8e-ab880e472030",
   "metadata": {},
   "outputs": [
    {
     "data": {
      "text/plain": [
       "86.0"
      ]
     },
     "execution_count": 11,
     "metadata": {},
     "output_type": "execute_result"
    }
   ],
   "source": [
    "statistics.median(values)"
   ]
  },
  {
   "cell_type": "code",
   "execution_count": 12,
   "id": "624ce6ff-aa1a-459e-9552-93aa54190f99",
   "metadata": {},
   "outputs": [
    {
     "data": {
      "text/plain": [
       "88"
      ]
     },
     "execution_count": 12,
     "metadata": {},
     "output_type": "execute_result"
    }
   ],
   "source": [
    "statistics.mode(values)"
   ]
  },
  {
   "cell_type": "code",
   "execution_count": 20,
   "id": "1f387e2f-5e8c-4558-9a92-4b9fc21e7886",
   "metadata": {},
   "outputs": [
    {
     "data": {
      "text/plain": [
       "8"
      ]
     },
     "execution_count": 20,
     "metadata": {},
     "output_type": "execute_result"
    }
   ],
   "source": [
    "newValues = [38, 31, 34, 19, 33, 53, 48, 38]\n",
    "len(newValues)"
   ]
  },
  {
   "cell_type": "code",
   "execution_count": 25,
   "id": "c8967e45-a38c-4396-a9e9-dc0d89609253",
   "metadata": {},
   "outputs": [
    {
     "data": {
      "text/plain": [
       "294"
      ]
     },
     "execution_count": 25,
     "metadata": {},
     "output_type": "execute_result"
    }
   ],
   "source": [
    "sum(newValues)"
   ]
  },
  {
   "cell_type": "code",
   "execution_count": 30,
   "id": "73360703-df4d-4470-a2c6-41b7231dcaf9",
   "metadata": {},
   "outputs": [
    {
     "data": {
      "text/plain": [
       "36.75"
      ]
     },
     "execution_count": 30,
     "metadata": {},
     "output_type": "execute_result"
    }
   ],
   "source": [
    "( sum(newValues) / len(newValues) )"
   ]
  },
  {
   "cell_type": "code",
   "execution_count": 27,
   "id": "44cf34fb-1406-4797-a4ff-579ccc08b82e",
   "metadata": {},
   "outputs": [
    {
     "data": {
      "text/plain": [
       "36.75"
      ]
     },
     "execution_count": 27,
     "metadata": {},
     "output_type": "execute_result"
    }
   ],
   "source": [
    "statistics.mean([38, 31,34, 19, 33, 53, 48, 38])"
   ]
  },
  {
   "cell_type": "code",
   "execution_count": 28,
   "id": "8415295d-a061-47fa-96b1-90439f5f7bd6",
   "metadata": {},
   "outputs": [
    {
     "data": {
      "text/plain": [
       "36.0"
      ]
     },
     "execution_count": 28,
     "metadata": {},
     "output_type": "execute_result"
    }
   ],
   "source": [
    "statistics.median(newValues)"
   ]
  },
  {
   "cell_type": "code",
   "execution_count": 29,
   "id": "162b5cf5-8ce8-4bbf-b469-d9c840893935",
   "metadata": {},
   "outputs": [
    {
     "data": {
      "text/plain": [
       "38"
      ]
     },
     "execution_count": 29,
     "metadata": {},
     "output_type": "execute_result"
    }
   ],
   "source": [
    "statistics.mode(newValues)"
   ]
  },
  {
   "cell_type": "code",
   "execution_count": null,
   "id": "1707c64b-f159-4b69-b120-875a5c11c25f",
   "metadata": {},
   "outputs": [],
   "source": []
  },
  {
   "cell_type": "code",
   "execution_count": null,
   "id": "820296f6-ebad-4b04-8989-be71c9223ad9",
   "metadata": {},
   "outputs": [],
   "source": []
  }
 ],
 "metadata": {
  "kernelspec": {
   "display_name": "Python 3",
   "language": "python",
   "name": "python3"
  },
  "language_info": {
   "codemirror_mode": {
    "name": "ipython",
    "version": 3
   },
   "file_extension": ".py",
   "mimetype": "text/x-python",
   "name": "python",
   "nbconvert_exporter": "python",
   "pygments_lexer": "ipython3",
   "version": "3.9.12"
  }
 },
 "nbformat": 4,
 "nbformat_minor": 5
}
