{
 "cells": [
  {
   "cell_type": "code",
   "execution_count": 18,
   "id": "416d15f5-03cd-4074-b994-5c54d2c250bd",
   "metadata": {},
   "outputs": [],
   "source": [
    "import numpy as np"
   ]
  },
  {
   "cell_type": "code",
   "execution_count": 21,
   "id": "a6544d04-5f2d-4c9c-ab3c-945d1522314a",
   "metadata": {},
   "outputs": [],
   "source": [
    "randnums = np.random.randint(1, 101, 100)"
   ]
  },
  {
   "cell_type": "code",
   "execution_count": 22,
   "id": "80979adb-513e-4749-92e4-b479a08a50f7",
   "metadata": {},
   "outputs": [
    {
     "data": {
      "text/plain": [
       "array([ 18,  86,  27,  33,   7,   5,  17,  73,  42,  50,  98,  56,  91,\n",
       "        13,  43,  76,  73,  93,  89,  87,  62,  34,  99,  10,  89,  71,\n",
       "         7,  45,  47,  96,  62,  93,  55,  46,  64,  56,  79,  92,  33,\n",
       "        63,  17,  89,  98,   1,  74,  31,  81,  59,  65,  12,  93,  94,\n",
       "        79,  21,  65,  71,   2,  34,  16,  97,  36, 100,  97,  43,  63,\n",
       "        72,  50,  13,  12,  49,  71,  13,  11,  58,   2,  42,  33,  33,\n",
       "        85,  62,  65,  65,  85,   7,  25,  34,  59,  83,  11,  12,   2,\n",
       "        59,  96,  93,  83,  38,  71,  87,  88,  90])"
      ]
     },
     "execution_count": 22,
     "metadata": {},
     "output_type": "execute_result"
    }
   ],
   "source": [
    "randnums"
   ]
  },
  {
   "cell_type": "code",
   "execution_count": 23,
   "id": "efc87c25-0d5a-4464-aaa7-ee148ccdcf7b",
   "metadata": {},
   "outputs": [
    {
     "data": {
      "text/plain": [
       "100"
      ]
     },
     "execution_count": 23,
     "metadata": {},
     "output_type": "execute_result"
    }
   ],
   "source": [
    "len(randnums)"
   ]
  },
  {
   "cell_type": "code",
   "execution_count": 24,
   "id": "a4c217d0-474a-430d-b3a9-c9c064b44630",
   "metadata": {},
   "outputs": [
    {
     "data": {
      "text/plain": [
       "5477"
      ]
     },
     "execution_count": 24,
     "metadata": {},
     "output_type": "execute_result"
    }
   ],
   "source": [
    "sum(randnums)"
   ]
  },
  {
   "cell_type": "code",
   "execution_count": 25,
   "id": "8b4a1611-a1bc-4cbd-b56e-a35849ef28d3",
   "metadata": {},
   "outputs": [
    {
     "data": {
      "text/plain": [
       "54.77"
      ]
     },
     "execution_count": 25,
     "metadata": {},
     "output_type": "execute_result"
    }
   ],
   "source": [
    "( sum(randnums) / len(randnums) )"
   ]
  },
  {
   "cell_type": "code",
   "execution_count": 27,
   "id": "c46d3a5f-990c-4109-9603-b9f4e2787b0f",
   "metadata": {},
   "outputs": [],
   "source": [
    "import statistics"
   ]
  },
  {
   "cell_type": "code",
   "execution_count": 28,
   "id": "a40d271c-a45e-470b-820b-d5cbb302fd33",
   "metadata": {},
   "outputs": [
    {
     "data": {
      "text/plain": [
       "54"
      ]
     },
     "execution_count": 28,
     "metadata": {},
     "output_type": "execute_result"
    }
   ],
   "source": [
    "statistics.mean(randnums)"
   ]
  },
  {
   "cell_type": "code",
   "execution_count": 29,
   "id": "1c700d60-d4e8-4e51-afb1-9de49f8a63be",
   "metadata": {},
   "outputs": [
    {
     "data": {
      "text/plain": [
       "59.0"
      ]
     },
     "execution_count": 29,
     "metadata": {},
     "output_type": "execute_result"
    }
   ],
   "source": [
    "statistics.median(randnums)"
   ]
  },
  {
   "cell_type": "code",
   "execution_count": 30,
   "id": "c663770e-0af7-4e06-aed0-da948a082253",
   "metadata": {},
   "outputs": [
    {
     "data": {
      "text/plain": [
       "33"
      ]
     },
     "execution_count": 30,
     "metadata": {},
     "output_type": "execute_result"
    }
   ],
   "source": [
    "statistics.mode(randnums)"
   ]
  },
  {
   "cell_type": "code",
   "execution_count": null,
   "id": "39b36ba4-de51-4b22-b9be-07839c326de5",
   "metadata": {},
   "outputs": [],
   "source": []
  }
 ],
 "metadata": {
  "kernelspec": {
   "display_name": "Python 3",
   "language": "python",
   "name": "python3"
  },
  "language_info": {
   "codemirror_mode": {
    "name": "ipython",
    "version": 3
   },
   "file_extension": ".py",
   "mimetype": "text/x-python",
   "name": "python",
   "nbconvert_exporter": "python",
   "pygments_lexer": "ipython3",
   "version": "3.9.12"
  }
 },
 "nbformat": 4,
 "nbformat_minor": 5
}
